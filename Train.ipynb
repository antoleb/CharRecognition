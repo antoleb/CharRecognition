{
 "cells": [
  {
   "cell_type": "code",
   "execution_count": 1,
   "metadata": {},
   "outputs": [],
   "source": [
    "import os\n",
    "import torch\n",
    "\n",
    "from skimage import io, transform\n",
    "from torch import nn\n",
    "from torch.utils.data import DataLoader\n",
    "\n",
    "from tensorboardX import SummaryWriter\n",
    "\n",
    "from batch_generator import BatchGenerator"
   ]
  },
  {
   "cell_type": "code",
   "execution_count": 2,
   "metadata": {},
   "outputs": [],
   "source": [
    "batch_size = 16"
   ]
  },
  {
   "cell_type": "code",
   "execution_count": 3,
   "metadata": {},
   "outputs": [],
   "source": [
    "train_batch_generator = BatchGenerator('/main/ssd/data/ocr/gen_100000_rc_let_num_sw10/')\n",
    "recognizable_characters = train_batch_generator.recognizable_characters\n",
    "\n",
    "train_data_loader = DataLoader(train_batch_generator, batch_size=batch_size, shuffle=True)"
   ]
  },
  {
   "cell_type": "code",
   "execution_count": 4,
   "metadata": {},
   "outputs": [
    {
     "name": "stdout",
     "output_type": "stream",
     "text": [
      "[0. 0. 0. 0. 0. 0. 0. 0. 0. 0. 0. 0. 0. 0. 0. 0. 0. 0. 0. 0. 0. 0. 0. 0.\n",
      " 0. 0. 0. 0. 1. 0. 0. 0. 0. 0. 0. 0.]\n"
     ]
    },
    {
     "name": "stderr",
     "output_type": "stream",
     "text": [
      "/opt/conda/lib/python3.6/site-packages/skimage/io/_plugins/matplotlib_plugin.py:51: FutureWarning: Conversion of the second argument of issubdtype from `float` to `np.floating` is deprecated. In future, it will be treated as `np.float64 == np.dtype(float).type`.\n",
      "  out_of_range_float = (np.issubdtype(image.dtype, np.float) and\n",
      "/opt/conda/lib/python3.6/site-packages/matplotlib/axes/_base.py:1400: MatplotlibDeprecationWarning: The 'box-forced' keyword argument is deprecated since 2.2.\n",
      "  \" since 2.2.\", cbook.mplDeprecation)\n"
     ]
    },
    {
     "data": {
      "image/png": "[encoded data removed]",
      "text/plain": [
       "<Figure size 432x288 with 1 Axes>"
      ]
     },
     "metadata": {},
     "output_type": "display_data"
    }
   ],
   "source": [
    "input, label = train_batch_generator[2]\n",
    "img = input[:-1].reshape(train_batch_generator.output_shape)\n",
    "io.imshow(img)\n",
    "print(label)"
   ]
  },
  {
   "cell_type": "code",
   "execution_count": 5,
   "metadata": {},
   "outputs": [],
   "source": [
    "network = nn.Sequential(\n",
    "    nn.Linear(321, 100),\n",
    "    nn.Sigmoid(),\n",
    "    nn.Linear(100, len(recognizable_characters))\n",
    "    ).cuda()\n",
    "\n",
    "optimizer = torch.optim.Adam(network.parameters())\n",
    "loss_fn = nn.BCEWithLogitsLoss()"
   ]
  },
  {
   "cell_type": "code",
   "execution_count": 7,
   "metadata": {},
   "outputs": [],
   "source": [
    "report_path = '/main/ssd/logs/ocr/2linear_2'\n",
    "writer = SummaryWriter(report_path)\n",
    "logs_freq = 100"
   ]
  },
  {
   "cell_type": "code",
   "execution_count": null,
   "metadata": {
    "scrolled": false
   },
   "outputs": [],
   "source": [
    "n_epoch = 10\n",
    "iteration = 0\n",
    "for epoch in range(n_epoch):\n",
    "    for inputs, targets in train_data_loader:\n",
    "        iteration += 1\n",
    "        inputs = inputs.float().cuda()\n",
    "        targets = targets.float().cuda()\n",
    "        predictions = network(inputs)\n",
    "        loss = loss_fn(predictions, targets)\n",
    "        loss.backward()\n",
    "        optimizer.step()\n",
    "        optimizer.zero_grad()\n",
    "        if iteration % logs_freq == 0:\n",
    "            writer.add_scalar(\"train loss\", loss, iteration)\n",
    "            accuracy = (targets.argmax(1) == predictions.argmax(1)).float().mean()\n",
    "            writer.add_scalar(\"train accuracy\", accuracy, iteration)\n",
    "    network.cpu()\n",
    "    state_dict = network.state_dict()\n",
    "    torch.save(state_dict, os.path.join(report_path, f'state_dict_{epoch+1}'))\n",
    "    network.cuda()\n"
   ]
  },
  {
   "cell_type": "code",
   "execution_count": 9,
   "metadata": {},
   "outputs": [],
   "source": [
    "activated_model = nn.Sequential(\n",
    "    network,\n",
    "    nn.Sigmoid()\n",
    ")"
   ]
  },
  {
   "cell_type": "code",
   "execution_count": 10,
   "metadata": {},
   "outputs": [],
   "source": [
    "dummy_input = torch.zeros(1, 321).float().cuda()\n",
    "torch.onnx.export(activated_model, dummy_input, \"activated_model_2.onnx\")"
   ]
  }
 ],
 "metadata": {
  "kernelspec": {
   "display_name": "Python 3",
   "language": "python",
   "name": "python3"
  },
  "language_info": {
   "codemirror_mode": {
    "name": "ipython",
    "version": 3
   },
   "file_extension": ".py",
   "mimetype": "text/x-python",
   "name": "python",
   "nbconvert_exporter": "python",
   "pygments_lexer": "ipython3",
   "version": "3.6.5"
  }
 },
 "nbformat": 4,
 "nbformat_minor": 2
}
